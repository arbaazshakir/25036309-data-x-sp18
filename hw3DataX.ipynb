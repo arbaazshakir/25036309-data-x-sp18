{
 "cells": [
  {
   "cell_type": "markdown",
   "metadata": {},
   "source": [
    "HW 3"
   ]
  },
  {
   "cell_type": "markdown",
   "metadata": {},
   "source": [
    "Arbaaz Shakir"
   ]
  },
  {
   "cell_type": "markdown",
   "metadata": {},
   "source": [
    "Part 1"
   ]
  },
  {
   "cell_type": "code",
   "execution_count": 178,
   "metadata": {},
   "outputs": [],
   "source": [
    "# load packages\n",
    "\n",
    "import numpy as np\n",
    "import pandas as pd\n",
    "import random\n",
    "import matplotlib.pyplot as plt\n",
    "from sklearn.model_selection import train_test_split\n",
    "from sklearn.datasets import load_digits\n",
    "from sklearn.linear_model import LogisticRegression\n",
    "from sklearn.model_selection import StratifiedKFold\n",
    "from sklearn.model_selection import cross_val_score\n",
    "from sklearn.linear_model import Ridge\n",
    "from sklearn.linear_model import Lasso\n",
    "from sklearn.metrics import mean_squared_error\n",
    "%matplotlib inline\n",
    "\n",
    "plt.rcParams['figure.figsize'] = 14, 10\n",
    "\n",
    "import warnings\n",
    "warnings.filterwarnings('ignore')"
   ]
  },
  {
   "cell_type": "code",
   "execution_count": 81,
   "metadata": {},
   "outputs": [
    {
     "data": {
      "image/png": "[encoded data removed]",
      "text/plain": [
       "<matplotlib.figure.Figure at 0x22de5bdb9e8>"
      ]
     },
     "metadata": {},
     "output_type": "display_data"
    }
   ],
   "source": [
    "images_and_labels = list(zip(digits.images, digits.target))\n",
    "for index, (image, label) in enumerate(images_and_labels[:4]):\n",
    "    plt.subplot(2, 4, index + 1)\n",
    "    plt.axis('off')\n",
    "    plt.imshow(image, cmap=plt.cm.gray_r, interpolation='nearest')\n",
    "    plt.title('Training: %i' % label)"
   ]
  },
  {
   "cell_type": "code",
   "execution_count": 82,
   "metadata": {},
   "outputs": [
    {
     "data": {
      "text/plain": [
       "dict_keys(['data', 'target', 'target_names', 'images', 'DESCR'])"
      ]
     },
     "execution_count": 82,
     "metadata": {},
     "output_type": "execute_result"
    }
   ],
   "source": [
    "digits.keys()"
   ]
  },
  {
   "cell_type": "code",
   "execution_count": 83,
   "metadata": {},
   "outputs": [
    {
     "data": {
      "text/plain": [
       "1797"
      ]
     },
     "execution_count": 83,
     "metadata": {},
     "output_type": "execute_result"
    }
   ],
   "source": [
    "len(digits.data)"
   ]
  },
  {
   "cell_type": "code",
   "execution_count": 166,
   "metadata": {},
   "outputs": [
    {
     "name": "stdout",
     "output_type": "stream",
     "text": [
      "Number of samples in training data: 1437\n",
      "Number of samples in test data: 360\n"
     ]
    }
   ],
   "source": [
    "# load and split dataset\n",
    "\n",
    "digits = load_digits()\n",
    "xTrain0, xTest, yTrain0, yTest = train_test_split(digits.data, digits.target, test_size=0.20, random_state=0)\n",
    "print ('Number of samples in training data:',len(xTrain0))\n",
    "print ('Number of samples in test data:',len(xTest))"
   ]
  },
  {
   "cell_type": "code",
   "execution_count": 167,
   "metadata": {},
   "outputs": [
    {
     "name": "stdout",
     "output_type": "stream",
     "text": [
      "StratifiedKFold(n_splits=10, random_state=None, shuffle=False)\n"
     ]
    }
   ],
   "source": [
    "# initialize Stratified K-fold object\n",
    "\n",
    "skf = StratifiedKFold(n_splits=10)\n",
    "skf.get_n_splits(xTrain0, yTrain0)\n",
    "print(skf)"
   ]
  },
  {
   "cell_type": "code",
   "execution_count": 248,
   "metadata": {},
   "outputs": [],
   "source": [
    "# split initial training set into training and validation sets\n",
    "\n",
    "alphaRidge = [1e-15, 1e-10, 1e-8, 1e-4, 1e-3, 1e-2, 1, 5, 10, 20]\n",
    "alphaLasso = [1e-15, 1e-10, 1e-8, 1e-5, 1e-4, 1e-3, 1e-2, 1, 5, 10]\n",
    "\n",
    "mseRidgeArr = []\n",
    "mseLassoArr = []\n",
    "\n",
    "for trainIndex, valIndex in skf.split(xTrain0, yTrain0):\n",
    "    # print(\"Train:\", trainIndex, \"Validation:\", valIndex)\n",
    "        \n",
    "    # generate batches from indices\n",
    "    xTrain, xVal = xTrain0[trainIndex], xTrain0[valIndex]\n",
    "    yTrain, yVal = yTrain0[trainIndex], yTrain0[valIndex]\n",
    "    \n",
    "    for i in range(10):\n",
    "        # initialize model\n",
    "        ridgeReg = Ridge(alpha=alphaRidge[i], normalize=True)\n",
    "        lassoReg = Lasso(alpha=alphaLasso[i], normalize=True, max_iter=1e5)\n",
    "        \n",
    "        # train model\n",
    "        ridgeReg.fit(xTrain, yTrain)\n",
    "        lassoReg.fit(xTrain, yTrain)\n",
    "        \n",
    "        # training accuracy\n",
    "        trainingAccuracyRidge = ridgeReg.score(xTrain, yTrain)\n",
    "        trainingAccuracyLasso = lassoReg.score(xTrain, yTrain)\n",
    "        \n",
    "        # validate model\n",
    "        yPredRidge = ridgeReg.predict(xVal)\n",
    "        yPredLasso = lassoReg.predict(xVal)\n",
    "        \n",
    "        # validation accuracy\n",
    "        # mseRidge = np.mean(np.square(yVal - yPredRidge))\n",
    "        mseRidge = mean_squared_error(yVal, yPredRidge)\n",
    "        mseRidgeArr = np.append(mseRidgeArr, mseRidge)\n",
    "        mseLasso = mean_squared_error(yVal, yPredLasso)\n",
    "        mseLassoArr = np.append(mseLassoArr, mseLasso)"
   ]
  },
  {
   "cell_type": "code",
   "execution_count": 249,
   "metadata": {},
   "outputs": [
    {
     "name": "stdout",
     "output_type": "stream",
     "text": [
      "Optimal hyperparameter for ridge regression:  1.0\n"
     ]
    }
   ],
   "source": [
    "resultsRidge = pd.DataFrame()\n",
    "resultsRidge['alpha'] = alphaRidge\n",
    "resultsRidge['mse fold 1'] = mseRidgeArr[:10]\n",
    "resultsRidge['mse fold 2'] = mseRidgeArr[10:20]\n",
    "resultsRidge['mse fold 3'] = mseRidgeArr[20:30]\n",
    "resultsRidge['mse fold 4'] = mseRidgeArr[30:40]\n",
    "resultsRidge['mse fold 5'] = mseRidgeArr[40:50]\n",
    "resultsRidge['mse fold 6'] = mseRidgeArr[50:60]\n",
    "resultsRidge['mse fold 7'] = mseRidgeArr[60:70]\n",
    "resultsRidge['mse fold 8'] = mseRidgeArr[70:80]\n",
    "resultsRidge['mse fold 9'] = mseRidgeArr[80:90]\n",
    "resultsRidge['mse fold 10'] = mseRidgeArr[90:100]\n",
    "\n",
    "resultsRidge['mean mse'] = np.zeros(10)\n",
    "\n",
    "for i in range(10):\n",
    "    resultsRidge['mean mse'][i] = np.mean(resultsRidge.iloc[i-1,1:])\n",
    "\n",
    "print('Optimal hyperparameter for ridge regression: ', resultsRidge['alpha'][resultsRidge['mean mse'].idxmin()])"
   ]
  },
  {
   "cell_type": "code",
   "execution_count": 250,
   "metadata": {},
   "outputs": [
    {
     "name": "stdout",
     "output_type": "stream",
     "text": [
      "Optimal hyperparameter for lasso regression:  0.001\n"
     ]
    }
   ],
   "source": [
    "resultsLasso = pd.DataFrame()\n",
    "resultsLasso['alpha'] = alphaLasso\n",
    "resultsLasso['mse fold 1'] = mseLassoArr[:10]\n",
    "resultsLasso['mse fold 2'] = mseLassoArr[10:20]\n",
    "resultsLasso['mse fold 3'] = mseLassoArr[20:30]\n",
    "resultsLasso['mse fold 4'] = mseLassoArr[30:40]\n",
    "resultsLasso['mse fold 5'] = mseLassoArr[40:50]\n",
    "resultsLasso['mse fold 6'] = mseLassoArr[50:60]\n",
    "resultsLasso['mse fold 7'] = mseLassoArr[60:70]\n",
    "resultsLasso['mse fold 8'] = mseLassoArr[70:80]\n",
    "resultsLasso['mse fold 9'] = mseLassoArr[80:90]\n",
    "resultsLasso['mse fold 10'] = mseLassoArr[90:100]\n",
    "\n",
    "resultsLasso['mean mse'] = np.zeros(10)\n",
    "\n",
    "for i in range(10):\n",
    "    resultsLasso['mean mse'][i] = np.mean(resultsLasso.iloc[i-1,1:])\n",
    "\n",
    "print('Optimal hyperparameter for lasso regression: ', resultsLasso['alpha'][resultsLasso['mean mse'].idxmin()])"
   ]
  },
  {
   "cell_type": "code",
   "execution_count": 251,
   "metadata": {},
   "outputs": [
    {
     "data": {
      "image/png": "[encoded data removed]",
      "text/plain": [
       "<matplotlib.figure.Figure at 0x22de49157f0>"
      ]
     },
     "metadata": {},
     "output_type": "display_data"
    }
   ],
   "source": [
    "plt.subplot(2, 2, 1)\n",
    "plt.semilogx(alphaRidge, resultsRidge['mean mse'], 'ko-')\n",
    "plt.title('Ridge')\n",
    "plt.xlabel('Hyperparameter')\n",
    "plt.ylabel('MSE')\n",
    "\n",
    "plt.subplot(2, 2, 2)\n",
    "plt.semilogx(alphaLasso, resultsLasso['mean mse'], 'ro-')\n",
    "plt.title('Lasso')\n",
    "plt.xlabel('Hyperparameter')\n",
    "plt.ylabel('MSE')\n",
    "\n",
    "plt.show()"
   ]
  },
  {
   "cell_type": "markdown",
   "metadata": {},
   "source": [
    "Part 2.1"
   ]
  },
  {
   "cell_type": "code",
   "execution_count": 1,
   "metadata": {},
   "outputs": [
    {
     "name": "stderr",
     "output_type": "stream",
     "text": [
      "C:\\Users\\arbaa\\AppData\\Local\\conda\\conda\\envs\\tensorflow\\lib\\site-packages\\h5py\\__init__.py:36: FutureWarning: Conversion of the second argument of issubdtype from `float` to `np.floating` is deprecated. In future, it will be treated as `np.float64 == np.dtype(float).type`.\n",
      "  from ._conv import register_converters as _register_converters\n"
     ]
    }
   ],
   "source": [
    "# import packages\n",
    "from __future__ import division, print_function, unicode_literals\n",
    "\n",
    "import pandas as pd\n",
    "import numpy as np\n",
    "import matplotlib.pyplot as plt\n",
    "\n",
    "import tensorflow as tf\n",
    "\n",
    "%matplotlib inline\n",
    "\n",
    "# Hide warnings\n",
    "import warnings\n",
    "warnings.filterwarnings('ignore')"
   ]
  },
  {
   "cell_type": "code",
   "execution_count": 2,
   "metadata": {},
   "outputs": [],
   "source": [
    "# import dataset\n",
    "from sklearn.datasets import load_digits\n",
    "import matplotlib.pyplot as plt\n",
    "from sklearn.model_selection import train_test_split\n",
    "from sklearn.preprocessing import OneHotEncoder\n",
    "\n",
    "digits = load_digits()"
   ]
  },
  {
   "cell_type": "code",
   "execution_count": 3,
   "metadata": {},
   "outputs": [
    {
     "name": "stdout",
     "output_type": "stream",
     "text": [
      "Number of samples in training data: 1437\n",
      "Number of samples in test data: 360\n"
     ]
    }
   ],
   "source": [
    "xTrain, xTest, yTrain, yTest = train_test_split(digits.data, digits.target, test_size=0.20, random_state=0)\n",
    "print ('Number of samples in training data:',len(xTrain))\n",
    "print ('Number of samples in test data:',len(xTest))"
   ]
  },
  {
   "cell_type": "code",
   "execution_count": 4,
   "metadata": {},
   "outputs": [],
   "source": [
    "temp = np.zeros([1437, 2])\n",
    "temp[:, 0] = yTrain\n",
    "\n",
    "enc = OneHotEncoder()\n",
    "enc.fit(temp)\n",
    "temp2 = enc.transform(temp).toarray()\n",
    "temp2.shape\n",
    "\n",
    "temp2 = temp2[:,:-1]\n",
    "\n",
    "yTrain = temp2"
   ]
  },
  {
   "cell_type": "code",
   "execution_count": 5,
   "metadata": {},
   "outputs": [],
   "source": [
    "tempV = np.zeros([360, 2])\n",
    "tempV[:, 0] = yTest\n",
    "\n",
    "enc = OneHotEncoder()\n",
    "enc.fit(tempV)\n",
    "tempV2 = enc.transform(tempV).toarray()\n",
    "tempV2.shape\n",
    "\n",
    "tempV2 = tempV2[:,:-1]\n",
    "\n",
    "yTest = tempV2"
   ]
  },
  {
   "cell_type": "code",
   "execution_count": 6,
   "metadata": {},
   "outputs": [
    {
     "name": "stdout",
     "output_type": "stream",
     "text": [
      "Shape of feature matrix: (1437, 64)\n",
      "Shape of target matrix: (1437, 10)\n",
      "One-hot encoding for 1st observation:\n",
      " [0. 0. 0. 0. 0. 0. 1. 0. 0. 0.]\n"
     ]
    }
   ],
   "source": [
    "print(\"Shape of feature matrix:\", xTrain.shape)\n",
    "print(\"Shape of target matrix:\", yTrain.shape)\n",
    "print(\"One-hot encoding for 1st observation:\\n\", yTrain[0])"
   ]
  },
  {
   "cell_type": "code",
   "execution_count": 7,
   "metadata": {},
   "outputs": [
    {
     "data": {
      "image/png": "[encoded data removed]",
      "text/plain": [
       "<Figure size 432x288 with 100 Axes>"
      ]
     },
     "metadata": {},
     "output_type": "display_data"
    }
   ],
   "source": [
    "# visualize data by plotting images\n",
    "fig, ax = plt.subplots(10,10)\n",
    "k = 0\n",
    "for i in range(10):\n",
    "    for j in range(10):\n",
    "        ax[i][j].imshow(xTrain[k].reshape(8,8), aspect='auto')\n",
    "        k += 1\n",
    "plt.show()"
   ]
  },
  {
   "cell_type": "code",
   "execution_count": 8,
   "metadata": {},
   "outputs": [],
   "source": [
    "# Set parameters\n",
    "learningRate = .001\n",
    "epochs = 200\n",
    "batchSize = 100\n",
    "step = 10"
   ]
  },
  {
   "cell_type": "code",
   "execution_count": 9,
   "metadata": {},
   "outputs": [],
   "source": [
    "# TF graph input\n",
    "x = tf.placeholder(\"float\", [None, 64]) # image of shape 8*8=64\n",
    "y = tf.placeholder(\"float\", [None, 10]) # 0-9 digits recognition = 10 classes"
   ]
  },
  {
   "cell_type": "code",
   "execution_count": 10,
   "metadata": {},
   "outputs": [],
   "source": [
    "# Create model\n",
    "\n",
    "# Set model weights\n",
    "W = tf.Variable(tf.zeros([64, 10]))\n",
    "b = tf.Variable(tf.zeros([10]))\n",
    "\n",
    "with tf.name_scope(\"Wx_b\") as scope:\n",
    "    # Construct a linear model\n",
    "    model = tf.nn.softmax(tf.matmul(x, W) + b) # Softmax\n",
    "    \n",
    "# Add summary ops to collect data\n",
    "w_h = tf.summary.histogram(\"weights\", W)\n",
    "b_h = tf.summary.histogram(\"biases\", b)"
   ]
  },
  {
   "cell_type": "code",
   "execution_count": 11,
   "metadata": {},
   "outputs": [],
   "source": [
    "with tf.name_scope(\"costFunction\") as scope:\n",
    "    # Minimize error using cross entropy\n",
    "    \n",
    "    costFunction = tf.reduce_mean(-tf.reduce_sum(y*tf.log(model), reduction_indices=[1]))\n",
    "\n",
    "    # Create a summary to monitor the cost function\n",
    "    tf.summary.scalar(\"costFunction\", costFunction)\n",
    "    \n",
    "with tf.name_scope(\"train\") as scope:\n",
    "    # Gradient descent\n",
    "    optimizer = tf.train.GradientDescentOptimizer(learningRate).minimize(costFunction)"
   ]
  },
  {
   "cell_type": "code",
   "execution_count": 12,
   "metadata": {},
   "outputs": [],
   "source": [
    "# Merge all summaries into a single operator\n",
    "mergedSummaryOperator = tf.summary.merge_all()"
   ]
  },
  {
   "cell_type": "code",
   "execution_count": 13,
   "metadata": {},
   "outputs": [],
   "source": [
    "# monitor accuracy\n",
    "def acc():\n",
    "    correct_prediction = tf.equal(tf.argmax(y,1), tf.argmax(model,1))\n",
    "    accuracy = tf.reduce_mean(tf.cast(correct_prediction, tf.float32))\n",
    "    print(sess.run(accuracy, feed_dict={x: xTest, y: yTest}))"
   ]
  },
  {
   "cell_type": "code",
   "execution_count": 14,
   "metadata": {},
   "outputs": [],
   "source": [
    "def nextBatch(start, epochIndex, batchSize, numExamples, epochsCompleted, xTrain, yTrain):\n",
    "    # function that randomizes data batch and outputs mini-batch for next epoch\n",
    "    start = epochIndex\n",
    "    epochIndex += batchSize\n",
    "    if epochIndex > numExamples:\n",
    "        # finished epoch\n",
    "        epochsCompleted += 1\n",
    "        # shuffle data\n",
    "        perm = np.arange(numExamples)\n",
    "        np.random.shuffle(perm)\n",
    "        xTrain = xTrain[perm]\n",
    "        yTrain = yTrain[perm]\n",
    "        # start next epoch\n",
    "        start = 0\n",
    "        epochIndex = batchSize\n",
    "        assert batchSize <= numExamples\n",
    "    end = epochIndex\n",
    "    return xTrain[start:end], yTrain[start:end]"
   ]
  },
  {
   "cell_type": "code",
   "execution_count": 15,
   "metadata": {},
   "outputs": [
    {
     "name": "stdout",
     "output_type": "stream",
     "text": [
      "Iteration: 0001 cost= 1.930395280\n",
      "Training accuracy: 0.69\n",
      "Iteration: 0011 cost= 0.405579214\n",
      "Training accuracy: 0.99\n",
      "Iteration: 0021 cost= 0.234730047\n",
      "Training accuracy: 1.0\n",
      "Iteration: 0031 cost= 0.166539906\n",
      "Training accuracy: 1.0\n",
      "Iteration: 0041 cost= 0.129179526\n",
      "Training accuracy: 1.0\n",
      "Iteration: 0051 cost= 0.105470212\n",
      "Training accuracy: 1.0\n",
      "Iteration: 0061 cost= 0.089065690\n",
      "Training accuracy: 1.0\n",
      "Iteration: 0071 cost= 0.077042326\n",
      "Training accuracy: 1.0\n",
      "Iteration: 0081 cost= 0.067856314\n",
      "Training accuracy: 1.0\n",
      "Iteration: 0091 cost= 0.060613105\n",
      "Training accuracy: 1.0\n",
      "Iteration: 0101 cost= 0.054758000\n",
      "Training accuracy: 1.0\n",
      "Iteration: 0111 cost= 0.049928667\n",
      "Training accuracy: 1.0\n",
      "Iteration: 0121 cost= 0.045878503\n",
      "Training accuracy: 1.0\n",
      "Iteration: 0131 cost= 0.042433844\n",
      "Training accuracy: 1.0\n",
      "Iteration: 0141 cost= 0.039468915\n",
      "Training accuracy: 1.0\n",
      "Iteration: 0151 cost= 0.036890421\n",
      "Training accuracy: 1.0\n",
      "Iteration: 0161 cost= 0.034627719\n",
      "Training accuracy: 1.0\n",
      "Iteration: 0171 cost= 0.032626330\n",
      "Training accuracy: 1.0\n",
      "Iteration: 0181 cost= 0.030843599\n",
      "Training accuracy: 1.0\n",
      "Iteration: 0191 cost= 0.029245652\n",
      "Training accuracy: 1.0\n",
      "Test accuracy: 0.89444447\n"
     ]
    }
   ],
   "source": [
    "# Launch session\n",
    "with tf.Session() as sess:\n",
    "    sess.run(tf.global_variables_initializer())\n",
    "    \n",
    "    # Set the logs writer to the desktop folder\n",
    "    summaryWriter = tf.summary.FileWriter('/Desktop/', graph=sess.graph)\n",
    "    \n",
    "    epochIndex = 0\n",
    "    numExamples = len(xTrain)\n",
    "    epochsCompleted = 0\n",
    "    start = 0\n",
    "\n",
    "    # Training cycle\n",
    "    for iteration in range(epochs):\n",
    "        averageCost = 0.\n",
    "        totalBatches = int(len(xTrain)/batchSize)\n",
    "        # Loop over all batches\n",
    "        for i in range(totalBatches):\n",
    "            batch_xs, batch_ys = nextBatch(start, epochIndex, batchSize, numExamples, epochsCompleted, xTrain, yTrain)\n",
    "            \n",
    "            # Fit training using batch data\n",
    "            sess.run(optimizer, feed_dict={x: batch_xs, y: batch_ys})\n",
    "            \n",
    "            # Compute the average loss\n",
    "            averageCost += sess.run(costFunction, feed_dict={x: batch_xs, y: batch_ys})/totalBatches\n",
    "            \n",
    "            # Write logs for each iteration\n",
    "            summaryStr = sess.run(mergedSummaryOperator, feed_dict={x: batch_xs, y: batch_ys})\n",
    "            summaryWriter.add_summary(summaryStr, iteration*totalBatches + i)\n",
    "            \n",
    "        if iteration % step == 0:\n",
    "            # Display cost per iteration step\n",
    "            print( \"Iteration:\", '%04d' % (iteration + 1), \"cost=\", \"{:.9f}\".format(averageCost))\n",
    "            \n",
    "            # Calculate training accuracy\n",
    "            predictions = tf.equal(tf.argmax(model, 1), tf.argmax(y, 1))\n",
    "            accuracyTraining = tf.reduce_mean(tf.cast(predictions, \"float\"))\n",
    "            print( \"Training accuracy:\", accuracyTraining.eval({x: batch_xs, y: batch_ys}))\n",
    "            \n",
    "    # Test the model\n",
    "    predictions = tf.equal(tf.argmax(model, 1), tf.argmax(y, 1))\n",
    "    \n",
    "    # Calculate test accuracy\n",
    "    accuracyTest = tf.reduce_mean(tf.cast(predictions, \"float\"))\n",
    "    print( \"Test accuracy:\", accuracyTest.eval({x: xTest, y: yTest}))    "
   ]
  },
  {
   "cell_type": "markdown",
   "metadata": {},
   "source": [
    "Part 2.2"
   ]
  },
  {
   "cell_type": "code",
   "execution_count": 1,
   "metadata": {},
   "outputs": [
    {
     "name": "stderr",
     "output_type": "stream",
     "text": [
      "C:\\Users\\arbaa\\AppData\\Local\\conda\\conda\\envs\\tensorflow\\lib\\site-packages\\h5py\\__init__.py:36: FutureWarning: Conversion of the second argument of issubdtype from `float` to `np.floating` is deprecated. In future, it will be treated as `np.float64 == np.dtype(float).type`.\n",
      "  from ._conv import register_converters as _register_converters\n"
     ]
    }
   ],
   "source": [
    "# import packages\n",
    "from __future__ import division, print_function, unicode_literals\n",
    "\n",
    "import pandas as pd\n",
    "import numpy as np\n",
    "import matplotlib.pyplot as plt\n",
    "\n",
    "import tensorflow as tf\n",
    "\n",
    "%matplotlib inline\n",
    "\n",
    "# Hide warnings\n",
    "import warnings\n",
    "warnings.filterwarnings('ignore')"
   ]
  },
  {
   "cell_type": "code",
   "execution_count": 2,
   "metadata": {},
   "outputs": [],
   "source": [
    "# Read input_data (not as one_hot)\n",
    "from sklearn.datasets import load_digits\n",
    "from sklearn.model_selection import train_test_split\n",
    "\n",
    "digits = load_digits()"
   ]
  },
  {
   "cell_type": "code",
   "execution_count": 3,
   "metadata": {},
   "outputs": [
    {
     "name": "stdout",
     "output_type": "stream",
     "text": [
      "Number of samples in training data: 1437\n",
      "Number of samples in test data: 360\n"
     ]
    }
   ],
   "source": [
    "xTrain, xTest, yTrain, yTest = train_test_split(digits.data, digits.target, test_size=0.20, random_state=0)\n",
    "print ('Number of samples in training data:',len(xTrain))\n",
    "print ('Number of samples in test data:',len(xTest))"
   ]
  },
  {
   "cell_type": "code",
   "execution_count": 4,
   "metadata": {},
   "outputs": [
    {
     "name": "stdout",
     "output_type": "stream",
     "text": [
      "WARNING:tensorflow:From C:\\Users\\arbaa\\AppData\\Local\\conda\\conda\\envs\\tensorflow\\lib\\site-packages\\tensorflow\\contrib\\learn\\python\\learn\\datasets\\base.py:198: retry (from tensorflow.contrib.learn.python.learn.datasets.base) is deprecated and will be removed in a future version.\n",
      "Instructions for updating:\n",
      "Use the retry module or similar alternatives.\n",
      "WARNING:tensorflow:From <ipython-input-4-8039be716aab>:2: infer_real_valued_columns_from_input (from tensorflow.contrib.learn.python.learn.estimators.estimator) is deprecated and will be removed in a future version.\n",
      "Instructions for updating:\n",
      "Please specify feature columns explicitly.\n",
      "WARNING:tensorflow:From C:\\Users\\arbaa\\AppData\\Local\\conda\\conda\\envs\\tensorflow\\lib\\site-packages\\tensorflow\\contrib\\learn\\python\\learn\\estimators\\estimator.py:142: setup_train_data_feeder (from tensorflow.contrib.learn.python.learn.learn_io.data_feeder) is deprecated and will be removed in a future version.\n",
      "Instructions for updating:\n",
      "Please use tensorflow/transform or tf.data.\n",
      "WARNING:tensorflow:From C:\\Users\\arbaa\\AppData\\Local\\conda\\conda\\envs\\tensorflow\\lib\\site-packages\\tensorflow\\contrib\\learn\\python\\learn\\learn_io\\data_feeder.py:100: extract_pandas_data (from tensorflow.contrib.learn.python.learn.learn_io.pandas_io) is deprecated and will be removed in a future version.\n",
      "Instructions for updating:\n",
      "Please access pandas data directly.\n",
      "WARNING:tensorflow:From C:\\Users\\arbaa\\AppData\\Local\\conda\\conda\\envs\\tensorflow\\lib\\site-packages\\tensorflow\\contrib\\learn\\python\\learn\\learn_io\\data_feeder.py:159: DataFeeder.__init__ (from tensorflow.contrib.learn.python.learn.learn_io.data_feeder) is deprecated and will be removed in a future version.\n",
      "Instructions for updating:\n",
      "Please use tensorflow/transform or tf.data.\n",
      "WARNING:tensorflow:From C:\\Users\\arbaa\\AppData\\Local\\conda\\conda\\envs\\tensorflow\\lib\\site-packages\\tensorflow\\contrib\\learn\\python\\learn\\learn_io\\data_feeder.py:340: check_array (from tensorflow.contrib.learn.python.learn.learn_io.data_feeder) is deprecated and will be removed in a future version.\n",
      "Instructions for updating:\n",
      "Please convert numpy dtypes explicitly.\n",
      "WARNING:tensorflow:float64 is not supported by many models, consider casting to float32.\n",
      "WARNING:tensorflow:From C:\\Users\\arbaa\\AppData\\Local\\conda\\conda\\envs\\tensorflow\\lib\\site-packages\\tensorflow\\contrib\\learn\\python\\learn\\estimators\\estimator.py:182: infer_real_valued_columns_from_input_fn (from tensorflow.contrib.learn.python.learn.estimators.estimator) is deprecated and will be removed in a future version.\n",
      "Instructions for updating:\n",
      "Please specify feature columns explicitly.\n",
      "WARNING:tensorflow:From C:\\Users\\arbaa\\AppData\\Local\\conda\\conda\\envs\\tensorflow\\lib\\site-packages\\tensorflow\\contrib\\learn\\python\\learn\\estimators\\dnn.py:378: multi_class_head (from tensorflow.contrib.learn.python.learn.estimators.head) is deprecated and will be removed in a future version.\n",
      "Instructions for updating:\n",
      "Please switch to tf.contrib.estimator.*_head.\n",
      "WARNING:tensorflow:From C:\\Users\\arbaa\\AppData\\Local\\conda\\conda\\envs\\tensorflow\\lib\\site-packages\\tensorflow\\contrib\\learn\\python\\learn\\estimators\\estimator.py:1165: BaseEstimator.__init__ (from tensorflow.contrib.learn.python.learn.estimators.estimator) is deprecated and will be removed in a future version.\n",
      "Instructions for updating:\n",
      "Please replace uses of any Estimator from tf.contrib.learn with an Estimator from tf.estimator.*\n",
      "WARNING:tensorflow:From C:\\Users\\arbaa\\AppData\\Local\\conda\\conda\\envs\\tensorflow\\lib\\site-packages\\tensorflow\\contrib\\learn\\python\\learn\\estimators\\estimator.py:427: RunConfig.__init__ (from tensorflow.contrib.learn.python.learn.estimators.run_config) is deprecated and will be removed in a future version.\n",
      "Instructions for updating:\n",
      "When switching to tf.estimator.Estimator, use tf.estimator.RunConfig instead.\n",
      "INFO:tensorflow:Using default config.\n",
      "WARNING:tensorflow:Using temporary folder as model directory: C:\\Users\\arbaa\\AppData\\Local\\Temp\\tmpklb4geop\n",
      "INFO:tensorflow:Using config: {'_num_worker_replicas': 0, '_save_summary_steps': 100, '_cluster_spec': <tensorflow.python.training.server_lib.ClusterSpec object at 0x0000012A0605FD30>, '_keep_checkpoint_every_n_hours': 10000, '_tf_random_seed': None, '_task_type': None, '_tf_config': gpu_options {\n",
      "  per_process_gpu_memory_fraction: 1.0\n",
      "}\n",
      ", '_num_ps_replicas': 0, '_session_config': None, '_evaluation_master': '', '_keep_checkpoint_max': 5, '_task_id': 0, '_log_step_count_steps': 100, '_model_dir': 'C:\\\\Users\\\\arbaa\\\\AppData\\\\Local\\\\Temp\\\\tmpklb4geop', '_master': '', '_save_checkpoints_steps': None, '_save_checkpoints_secs': 600, '_is_chief': True, '_environment': 'local'}\n",
      "WARNING:tensorflow:From <ipython-input-4-8039be716aab>:17: SKCompat.__init__ (from tensorflow.contrib.learn.python.learn.estimators.estimator) is deprecated and will be removed in a future version.\n",
      "Instructions for updating:\n",
      "Please switch to the Estimator interface.\n"
     ]
    }
   ],
   "source": [
    "# define features\n",
    "featureCols = tf.contrib.learn.infer_real_valued_columns_from_input(xTrain)\n",
    "\n",
    "# dense neural network classifier\n",
    "# 3 layers: 300, 200 and 100\n",
    "# 10 classes\n",
    "\n",
    "learningRate = .001\n",
    "dnnClf = tf.contrib.learn.DNNClassifier(hidden_units=[300,200,100],\n",
    "                                        feature_columns=featureCols,\n",
    "                                        n_classes=10,\n",
    "                                        optimizer=tf.train.GradientDescentOptimizer(learningRate),\n",
    "                                        activation_fn=tf.nn.tanh,\n",
    "                                        dropout=.1)\n",
    "\n",
    "# if TensorFlow >= 1.1, make compatible with sklearn\n",
    "dnnClf = tf.contrib.learn.SKCompat(dnnClf)"
   ]
  },
  {
   "cell_type": "code",
   "execution_count": 5,
   "metadata": {},
   "outputs": [
    {
     "name": "stdout",
     "output_type": "stream",
     "text": [
      "WARNING:tensorflow:From C:\\Users\\arbaa\\AppData\\Local\\conda\\conda\\envs\\tensorflow\\lib\\site-packages\\tensorflow\\contrib\\learn\\python\\learn\\learn_io\\data_feeder.py:102: extract_pandas_labels (from tensorflow.contrib.learn.python.learn.learn_io.pandas_io) is deprecated and will be removed in a future version.\n",
      "Instructions for updating:\n",
      "Please access pandas data directly.\n",
      "WARNING:tensorflow:float64 is not supported by many models, consider casting to float32.\n",
      "WARNING:tensorflow:From C:\\Users\\arbaa\\AppData\\Local\\conda\\conda\\envs\\tensorflow\\lib\\site-packages\\tensorflow\\contrib\\learn\\python\\learn\\estimators\\head.py:678: ModelFnOps.__new__ (from tensorflow.contrib.learn.python.learn.estimators.model_fn) is deprecated and will be removed in a future version.\n",
      "Instructions for updating:\n",
      "When switching to tf.estimator.Estimator, use tf.estimator.EstimatorSpec. You can use the `estimator_spec` method to create an equivalent one.\n",
      "INFO:tensorflow:Create CheckpointSaverHook.\n",
      "INFO:tensorflow:Graph was finalized.\n",
      "INFO:tensorflow:Running local_init_op.\n",
      "INFO:tensorflow:Done running local_init_op.\n",
      "INFO:tensorflow:Saving checkpoints for 1 into C:\\Users\\arbaa\\AppData\\Local\\Temp\\tmpklb4geop\\model.ckpt.\n",
      "INFO:tensorflow:loss = 2.6373098, step = 1\n",
      "INFO:tensorflow:global_step/sec: 242.031\n",
      "INFO:tensorflow:loss = 1.8654155, step = 101 (0.414 sec)\n",
      "INFO:tensorflow:global_step/sec: 257.534\n",
      "INFO:tensorflow:loss = 1.4411714, step = 201 (0.387 sec)\n",
      "INFO:tensorflow:global_step/sec: 273.405\n",
      "INFO:tensorflow:loss = 1.182726, step = 301 (0.366 sec)\n",
      "INFO:tensorflow:global_step/sec: 258.676\n",
      "INFO:tensorflow:loss = 0.95284915, step = 401 (0.387 sec)\n",
      "INFO:tensorflow:global_step/sec: 280.528\n",
      "INFO:tensorflow:loss = 0.9475983, step = 501 (0.356 sec)\n",
      "INFO:tensorflow:global_step/sec: 278.673\n",
      "INFO:tensorflow:loss = 0.7567387, step = 601 (0.359 sec)\n",
      "INFO:tensorflow:global_step/sec: 283.071\n",
      "INFO:tensorflow:loss = 0.668875, step = 701 (0.353 sec)\n",
      "INFO:tensorflow:global_step/sec: 274.14\n",
      "INFO:tensorflow:loss = 0.652262, step = 801 (0.365 sec)\n",
      "INFO:tensorflow:global_step/sec: 268.522\n",
      "INFO:tensorflow:loss = 0.60663545, step = 901 (0.373 sec)\n",
      "INFO:tensorflow:Saving checkpoints for 1000 into C:\\Users\\arbaa\\AppData\\Local\\Temp\\tmpklb4geop\\model.ckpt.\n",
      "INFO:tensorflow:Loss for final step: 0.4993689.\n"
     ]
    },
    {
     "data": {
      "text/plain": [
       "SKCompat()"
      ]
     },
     "execution_count": 5,
     "metadata": {},
     "output_type": "execute_result"
    }
   ],
   "source": [
    "# fit the model, 4000 iterations\n",
    "dnnClf.fit(xTrain, yTrain, batch_size=100, steps=1000)"
   ]
  },
  {
   "cell_type": "code",
   "execution_count": 6,
   "metadata": {},
   "outputs": [
    {
     "name": "stdout",
     "output_type": "stream",
     "text": [
      "WARNING:tensorflow:float64 is not supported by many models, consider casting to float32.\n",
      "INFO:tensorflow:Graph was finalized.\n",
      "INFO:tensorflow:Restoring parameters from C:\\Users\\arbaa\\AppData\\Local\\Temp\\tmpklb4geop\\model.ckpt-1000\n",
      "INFO:tensorflow:Running local_init_op.\n",
      "INFO:tensorflow:Done running local_init_op.\n",
      "\n",
      "Accuracy:  0.925\n"
     ]
    }
   ],
   "source": [
    "# Calculate accuracies\n",
    "from sklearn.metrics import accuracy_score\n",
    "\n",
    "yPred = dnnClf.predict(xTest)\n",
    "print()\n",
    "print('Accuracy: ', accuracy_score(yTest, yPred['classes']))"
   ]
  },
  {
   "cell_type": "code",
   "execution_count": null,
   "metadata": {},
   "outputs": [],
   "source": []
  },
  {
   "cell_type": "code",
   "execution_count": null,
   "metadata": {},
   "outputs": [],
   "source": []
  }
 ],
 "metadata": {
  "kernelspec": {
   "display_name": "Python 3",
   "language": "python",
   "name": "python3"
  },
  "language_info": {
   "codemirror_mode": {
    "name": "ipython",
    "version": 3
   },
   "file_extension": ".py",
   "mimetype": "text/x-python",
   "name": "python",
   "nbconvert_exporter": "python",
   "pygments_lexer": "ipython3",
   "version": "3.5.5"
  }
 },
 "nbformat": 4,
 "nbformat_minor": 2
}
